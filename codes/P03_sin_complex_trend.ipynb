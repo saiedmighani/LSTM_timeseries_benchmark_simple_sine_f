{
 "cells": [
  {
   "cell_type": "markdown",
   "metadata": {},
   "source": [
    "Importing the required libraries:"
   ]
  },
  {
   "cell_type": "code",
   "execution_count": 1,
   "metadata": {},
   "outputs": [],
   "source": [
    "import numpy as np\n",
    "import pandas as pd\n",
    "from math import sqrt\n",
    "\n",
    "import pickle\n",
    "import os\n",
    "import datetime\n",
    "import seaborn as sns\n",
    "import matplotlib.pyplot as plt\n",
    "\n",
    "## for machine learning\n",
    "\n",
    "from sklearn.preprocessing import MinMaxScaler\n",
    "from sklearn.preprocessing import RobustScaler\n",
    "from sklearn.metrics import mean_squared_error\n",
    "\n",
    "from tensorflow import keras\n",
    "\n",
    "from keras.models import Sequential\n",
    "from keras.layers import LSTM\n",
    "from keras.layers import Dense\n",
    "from keras.layers import Dropout\n",
    "from keras.layers import Masking"
   ]
  },
  {
   "cell_type": "markdown",
   "metadata": {},
   "source": [
    "## Preparing the sine wave function"
   ]
  },
  {
   "cell_type": "code",
   "execution_count": 2,
   "metadata": {},
   "outputs": [
    {
     "name": "stdout",
     "output_type": "stream",
     "text": [
      "Polynomial    5     4     3     2\n",
      "1 x + 2 x - 2 x + 2 x + 1 x - 1\n"
     ]
    },
    {
     "data": {
      "text/html": [
       "<div>\n",
       "<style scoped>\n",
       "    .dataframe tbody tr th:only-of-type {\n",
       "        vertical-align: middle;\n",
       "    }\n",
       "\n",
       "    .dataframe tbody tr th {\n",
       "        vertical-align: top;\n",
       "    }\n",
       "\n",
       "    .dataframe thead th {\n",
       "        text-align: right;\n",
       "    }\n",
       "</style>\n",
       "<table border=\"1\" class=\"dataframe\">\n",
       "  <thead>\n",
       "    <tr style=\"text-align: right;\">\n",
       "      <th></th>\n",
       "      <th>x_axis</th>\n",
       "      <th>y_axis</th>\n",
       "    </tr>\n",
       "  </thead>\n",
       "  <tbody>\n",
       "    <tr>\n",
       "      <th>0</th>\n",
       "      <td>-157.079633</td>\n",
       "      <td>-19.533778</td>\n",
       "    </tr>\n",
       "    <tr>\n",
       "      <th>1</th>\n",
       "      <td>-156.979633</td>\n",
       "      <td>-18.398068</td>\n",
       "    </tr>\n",
       "    <tr>\n",
       "      <th>2</th>\n",
       "      <td>-156.879633</td>\n",
       "      <td>-17.415214</td>\n",
       "    </tr>\n",
       "    <tr>\n",
       "      <th>3</th>\n",
       "      <td>-156.779633</td>\n",
       "      <td>-16.706487</td>\n",
       "    </tr>\n",
       "    <tr>\n",
       "      <th>4</th>\n",
       "      <td>-156.679633</td>\n",
       "      <td>-16.337575</td>\n",
       "    </tr>\n",
       "  </tbody>\n",
       "</table>\n",
       "</div>"
      ],
      "text/plain": [
       "       x_axis     y_axis\n",
       "0 -157.079633 -19.533778\n",
       "1 -156.979633 -18.398068\n",
       "2 -156.879633 -17.415214\n",
       "3 -156.779633 -16.706487\n",
       "4 -156.679633 -16.337575"
      ]
     },
     "execution_count": 2,
     "metadata": {},
     "output_type": "execute_result"
    }
   ],
   "source": [
    "x_axis = np.arange(-50*np.pi, 50*np.pi, 0.1)\n",
    "y_1_axis = np.sin(x_axis)\n",
    "y_2_axis = np.sin(2*x_axis)\n",
    "y_3_axis = np.sin(3*x_axis)\n",
    "y_4_axis = np.sin(5*x_axis)\n",
    "\n",
    "p = np.poly1d([1, 2, -2, 2, 1, -1])\n",
    "print(\"Polynomial\", np.poly1d(p))\n",
    "\n",
    "y_5_axis = 20 * p(x_axis)/np.max(p(x_axis))\n",
    "\n",
    "y_axis = y_1_axis + y_2_axis + y_3_axis + y_4_axis + y_5_axis\n",
    "\n",
    "df = pd.DataFrame({\"x_axis\": x_axis, \"y_axis\":y_axis})\n",
    "\n",
    "df.head()"
   ]
  },
  {
   "cell_type": "code",
   "execution_count": 3,
   "metadata": {},
   "outputs": [
    {
     "data": {
      "image/png": "[encoded data removed]",
      "text/plain": [
       "<Figure size 432x288 with 1 Axes>"
      ]
     },
     "metadata": {
      "needs_background": "light"
     },
     "output_type": "display_data"
    }
   ],
   "source": [
    "sns.lineplot(data=df, x=\"x_axis\", y=\"y_axis\");"
   ]
  },
  {
   "cell_type": "code",
   "execution_count": 4,
   "metadata": {},
   "outputs": [
    {
     "name": "stdout",
     "output_type": "stream",
     "text": [
      "(2827, 2) (315, 2)\n"
     ]
    }
   ],
   "source": [
    "df_eq_model = df.copy()\n",
    "\n",
    "train_size = int(len(df_eq_model)* 0.9)\n",
    "test_size = len(df_eq_model) - train_size\n",
    "train, test = df_eq_model.iloc[0:train_size], df_eq_model.iloc[train_size:len(df_eq_model)]\n",
    "\n",
    "print(train.shape, test.shape)"
   ]
  },
  {
   "cell_type": "code",
   "execution_count": 5,
   "metadata": {},
   "outputs": [
    {
     "data": {
      "text/html": [
       "<div>\n",
       "<style scoped>\n",
       "    .dataframe tbody tr th:only-of-type {\n",
       "        vertical-align: middle;\n",
       "    }\n",
       "\n",
       "    .dataframe tbody tr th {\n",
       "        vertical-align: top;\n",
       "    }\n",
       "\n",
       "    .dataframe thead th {\n",
       "        text-align: right;\n",
       "    }\n",
       "</style>\n",
       "<table border=\"1\" class=\"dataframe\">\n",
       "  <thead>\n",
       "    <tr style=\"text-align: right;\">\n",
       "      <th></th>\n",
       "      <th>x_axis</th>\n",
       "      <th>y_axis</th>\n",
       "    </tr>\n",
       "  </thead>\n",
       "  <tbody>\n",
       "    <tr>\n",
       "      <th>0</th>\n",
       "      <td>-157.079633</td>\n",
       "      <td>-19.533778</td>\n",
       "    </tr>\n",
       "    <tr>\n",
       "      <th>1</th>\n",
       "      <td>-156.979633</td>\n",
       "      <td>-18.398068</td>\n",
       "    </tr>\n",
       "  </tbody>\n",
       "</table>\n",
       "</div>"
      ],
      "text/plain": [
       "       x_axis     y_axis\n",
       "0 -157.079633 -19.533778\n",
       "1 -156.979633 -18.398068"
      ]
     },
     "execution_count": 5,
     "metadata": {},
     "output_type": "execute_result"
    }
   ],
   "source": [
    "train.head(2)"
   ]
  },
  {
   "cell_type": "code",
   "execution_count": 6,
   "metadata": {},
   "outputs": [
    {
     "data": {
      "text/html": [
       "<div>\n",
       "<style scoped>\n",
       "    .dataframe tbody tr th:only-of-type {\n",
       "        vertical-align: middle;\n",
       "    }\n",
       "\n",
       "    .dataframe tbody tr th {\n",
       "        vertical-align: top;\n",
       "    }\n",
       "\n",
       "    .dataframe thead th {\n",
       "        text-align: right;\n",
       "    }\n",
       "</style>\n",
       "<table border=\"1\" class=\"dataframe\">\n",
       "  <thead>\n",
       "    <tr style=\"text-align: right;\">\n",
       "      <th></th>\n",
       "      <th>x_axis</th>\n",
       "      <th>y_axis</th>\n",
       "    </tr>\n",
       "  </thead>\n",
       "  <tbody>\n",
       "    <tr>\n",
       "      <th>2827</th>\n",
       "      <td>125.620367</td>\n",
       "      <td>6.100431</td>\n",
       "    </tr>\n",
       "    <tr>\n",
       "      <th>2828</th>\n",
       "      <td>125.720367</td>\n",
       "      <td>7.219517</td>\n",
       "    </tr>\n",
       "  </tbody>\n",
       "</table>\n",
       "</div>"
      ],
      "text/plain": [
       "          x_axis    y_axis\n",
       "2827  125.620367  6.100431\n",
       "2828  125.720367  7.219517"
      ]
     },
     "execution_count": 6,
     "metadata": {},
     "output_type": "execute_result"
    }
   ],
   "source": [
    "test.head(2)"
   ]
  },
  {
   "cell_type": "code",
   "execution_count": 7,
   "metadata": {},
   "outputs": [],
   "source": [
    "from sklearn.preprocessing import RobustScaler\n",
    "\n",
    "f_columns = [\"x_axis\"]\n",
    "\n",
    "f_transformer = RobustScaler()\n",
    "y_transformer = RobustScaler()\n",
    "\n",
    "f_transformer = f_transformer.fit(train[f_columns].to_numpy())\n",
    "y_transformer = y_transformer.fit(train[[\"y_axis\"]])"
   ]
  },
  {
   "cell_type": "code",
   "execution_count": 8,
   "metadata": {},
   "outputs": [
    {
     "data": {
      "text/plain": [
       "{'copy': True,\n",
       " 'quantile_range': (25.0, 75.0),\n",
       " 'with_centering': True,\n",
       " 'with_scaling': True}"
      ]
     },
     "execution_count": 8,
     "metadata": {},
     "output_type": "execute_result"
    }
   ],
   "source": [
    "f_transformer.get_params()"
   ]
  },
  {
   "cell_type": "code",
   "execution_count": 9,
   "metadata": {},
   "outputs": [
    {
     "name": "stderr",
     "output_type": "stream",
     "text": [
      "/Users/smighani/opt/anaconda3/envs/dsi/lib/python3.7/site-packages/pandas/core/indexing.py:670: SettingWithCopyWarning: \n",
      "A value is trying to be set on a copy of a slice from a DataFrame\n",
      "\n",
      "See the caveats in the documentation: https://pandas.pydata.org/pandas-docs/stable/user_guide/indexing.html#returning-a-view-versus-a-copy\n",
      "  iloc._setitem_with_indexer(indexer, value)\n",
      "/Users/smighani/opt/anaconda3/envs/dsi/lib/python3.7/site-packages/ipykernel_launcher.py:1: SettingWithCopyWarning: \n",
      "A value is trying to be set on a copy of a slice from a DataFrame\n",
      "\n",
      "See the caveats in the documentation: https://pandas.pydata.org/pandas-docs/stable/user_guide/indexing.html#returning-a-view-versus-a-copy\n",
      "  \"\"\"Entry point for launching an IPython kernel.\n",
      "/Users/smighani/opt/anaconda3/envs/dsi/lib/python3.7/site-packages/ipykernel_launcher.py:2: SettingWithCopyWarning: \n",
      "A value is trying to be set on a copy of a slice from a DataFrame.\n",
      "Try using .loc[row_indexer,col_indexer] = value instead\n",
      "\n",
      "See the caveats in the documentation: https://pandas.pydata.org/pandas-docs/stable/user_guide/indexing.html#returning-a-view-versus-a-copy\n",
      "  \n",
      "/Users/smighani/opt/anaconda3/envs/dsi/lib/python3.7/site-packages/pandas/core/indexing.py:670: SettingWithCopyWarning: \n",
      "A value is trying to be set on a copy of a slice from a DataFrame\n",
      "\n",
      "See the caveats in the documentation: https://pandas.pydata.org/pandas-docs/stable/user_guide/indexing.html#returning-a-view-versus-a-copy\n",
      "  iloc._setitem_with_indexer(indexer, value)\n",
      "/Users/smighani/opt/anaconda3/envs/dsi/lib/python3.7/site-packages/ipykernel_launcher.py:4: SettingWithCopyWarning: \n",
      "A value is trying to be set on a copy of a slice from a DataFrame\n",
      "\n",
      "See the caveats in the documentation: https://pandas.pydata.org/pandas-docs/stable/user_guide/indexing.html#returning-a-view-versus-a-copy\n",
      "  after removing the cwd from sys.path.\n",
      "/Users/smighani/opt/anaconda3/envs/dsi/lib/python3.7/site-packages/ipykernel_launcher.py:5: SettingWithCopyWarning: \n",
      "A value is trying to be set on a copy of a slice from a DataFrame.\n",
      "Try using .loc[row_indexer,col_indexer] = value instead\n",
      "\n",
      "See the caveats in the documentation: https://pandas.pydata.org/pandas-docs/stable/user_guide/indexing.html#returning-a-view-versus-a-copy\n",
      "  \"\"\"\n"
     ]
    }
   ],
   "source": [
    "train.loc[:,f_columns] = f_transformer.transform(train[f_columns].to_numpy())\n",
    "train[\"y_axis\"] = y_transformer.transform(train[[\"y_axis\"]])\n",
    "\n",
    "test.loc[:,f_columns] = f_transformer.transform(test[f_columns].to_numpy())\n",
    "test[\"y_axis\"] = y_transformer.transform(test[[\"y_axis\"]])"
   ]
  },
  {
   "cell_type": "markdown",
   "metadata": {},
   "source": [
    "### Preparing the data for LSTM"
   ]
  },
  {
   "cell_type": "code",
   "execution_count": 10,
   "metadata": {},
   "outputs": [],
   "source": [
    "def create_dataset(X, y, time_steps = 1):\n",
    "    Xs, ys = [], []\n",
    "    for i in range(len(X)- time_steps):\n",
    "        v = X.iloc[i: (i + time_steps)].to_numpy()\n",
    "        Xs.append(v)\n",
    "        ys.append(y.iloc[i+time_steps])\n",
    "    return np.array(Xs), np.array(ys)\n"
   ]
  },
  {
   "cell_type": "code",
   "execution_count": 11,
   "metadata": {},
   "outputs": [],
   "source": [
    "TIME_STEPS = 80\n",
    "\n",
    "X_train, y_train = create_dataset(train, train[\"y_axis\"], time_steps = TIME_STEPS)\n",
    "\n",
    "X_test, y_test = create_dataset(test, test[\"y_axis\"], time_steps= TIME_STEPS)"
   ]
  },
  {
   "cell_type": "code",
   "execution_count": 12,
   "metadata": {},
   "outputs": [
    {
     "name": "stdout",
     "output_type": "stream",
     "text": [
      "(2747, 80, 2) (2747,)\n",
      "(235, 80, 2) (235,)\n"
     ]
    }
   ],
   "source": [
    "print(X_train.shape, y_train.shape)\n",
    "\n",
    "print(X_test.shape, y_test.shape)\n",
    "\n"
   ]
  },
  {
   "cell_type": "code",
   "execution_count": 13,
   "metadata": {},
   "outputs": [
    {
     "data": {
      "text/plain": [
       "array([-1.        , -5.93344322])"
      ]
     },
     "execution_count": 13,
     "metadata": {},
     "output_type": "execute_result"
    }
   ],
   "source": [
    "X_train[0][0]"
   ]
  },
  {
   "cell_type": "markdown",
   "metadata": {},
   "source": [
    "## Model Architecture"
   ]
  },
  {
   "cell_type": "code",
   "execution_count": 14,
   "metadata": {},
   "outputs": [],
   "source": [
    "\n",
    "model = keras.Sequential()\n",
    "# Adding bi-directional layer\n",
    "model.add(\n",
    "    keras.layers.Bidirectional(\n",
    "        keras.layers.LSTM(\n",
    "            units=256,\n",
    "            input_shape = (X_train.shape[1], X_train.shape[2])\n",
    "        )\n",
    "    )\n",
    ")\n",
    "\n",
    "# Adding dropout layer to regularize complexities \n",
    "model.add(keras.layers.Dropout(rate = 0.4))\n",
    "# Add output layer\n",
    "model.add(keras.layers.Dense(units = 1))\n"
   ]
  },
  {
   "cell_type": "code",
   "execution_count": 15,
   "metadata": {},
   "outputs": [],
   "source": [
    "# Compiling the model\n",
    "model.compile(loss = \"mean_squared_error\", optimizer = \"adam\")"
   ]
  },
  {
   "cell_type": "code",
   "execution_count": 16,
   "metadata": {},
   "outputs": [
    {
     "name": "stdout",
     "output_type": "stream",
     "text": [
      "Epoch 1/60\n",
      "8/8 [==============================] - 4s 548ms/step - loss: 1.6590 - val_loss: 0.2397\n",
      "Epoch 2/60\n",
      "8/8 [==============================] - 4s 489ms/step - loss: 0.8016 - val_loss: 0.3841\n",
      "Epoch 3/60\n",
      "8/8 [==============================] - 4s 491ms/step - loss: 0.4357 - val_loss: 0.3614\n",
      "Epoch 4/60\n",
      "8/8 [==============================] - 4s 497ms/step - loss: 0.4252 - val_loss: 0.2761\n",
      "Epoch 5/60\n",
      "8/8 [==============================] - 4s 481ms/step - loss: 0.2816 - val_loss: 0.2197\n",
      "Epoch 6/60\n",
      "8/8 [==============================] - 4s 461ms/step - loss: 0.2193 - val_loss: 0.2047\n",
      "Epoch 7/60\n",
      "8/8 [==============================] - 4s 454ms/step - loss: 0.2108 - val_loss: 0.2132\n",
      "Epoch 8/60\n",
      "8/8 [==============================] - 4s 459ms/step - loss: 0.1881 - val_loss: 0.2184\n",
      "Epoch 9/60\n",
      "8/8 [==============================] - 4s 458ms/step - loss: 0.1847 - val_loss: 0.2123\n",
      "Epoch 10/60\n",
      "8/8 [==============================] - 4s 485ms/step - loss: 0.1750 - val_loss: 0.2069\n",
      "Epoch 11/60\n",
      "8/8 [==============================] - 4s 517ms/step - loss: 0.1650 - val_loss: 0.2104\n",
      "Epoch 12/60\n",
      "8/8 [==============================] - 4s 460ms/step - loss: 0.1541 - val_loss: 0.2103\n",
      "Epoch 13/60\n",
      "8/8 [==============================] - 4s 482ms/step - loss: 0.1512 - val_loss: 0.2123\n",
      "Epoch 14/60\n",
      "8/8 [==============================] - 4s 542ms/step - loss: 0.1435 - val_loss: 0.2048\n",
      "Epoch 15/60\n",
      "8/8 [==============================] - 4s 545ms/step - loss: 0.1399 - val_loss: 0.2139\n",
      "Epoch 16/60\n",
      "8/8 [==============================] - 4s 485ms/step - loss: 0.1392 - val_loss: 0.1781\n",
      "Epoch 17/60\n",
      "8/8 [==============================] - 4s 489ms/step - loss: 0.1607 - val_loss: 0.2711\n",
      "Epoch 18/60\n",
      "8/8 [==============================] - 4s 514ms/step - loss: 0.2550 - val_loss: 0.1518\n",
      "Epoch 19/60\n",
      "8/8 [==============================] - 4s 548ms/step - loss: 0.1336 - val_loss: 0.1272\n",
      "Epoch 20/60\n",
      "8/8 [==============================] - 4s 487ms/step - loss: 0.1419 - val_loss: 0.1793\n",
      "Epoch 21/60\n",
      "8/8 [==============================] - 4s 536ms/step - loss: 0.1171 - val_loss: 0.1847\n",
      "Epoch 22/60\n",
      "8/8 [==============================] - 4s 544ms/step - loss: 0.1158 - val_loss: 0.1458\n",
      "Epoch 23/60\n",
      "8/8 [==============================] - 4s 520ms/step - loss: 0.1111 - val_loss: 0.1435\n",
      "Epoch 24/60\n",
      "8/8 [==============================] - 4s 520ms/step - loss: 0.1061 - val_loss: 0.1608\n",
      "Epoch 25/60\n",
      "8/8 [==============================] - 4s 498ms/step - loss: 0.0959 - val_loss: 0.1620\n",
      "Epoch 26/60\n",
      "8/8 [==============================] - 4s 491ms/step - loss: 0.0868 - val_loss: 0.1546\n",
      "Epoch 27/60\n",
      "8/8 [==============================] - 4s 496ms/step - loss: 0.0829 - val_loss: 0.1493\n",
      "Epoch 28/60\n",
      "8/8 [==============================] - 4s 495ms/step - loss: 0.0780 - val_loss: 0.1496\n",
      "Epoch 29/60\n",
      "8/8 [==============================] - 4s 486ms/step - loss: 0.0722 - val_loss: 0.1590\n",
      "Epoch 30/60\n",
      "8/8 [==============================] - 4s 494ms/step - loss: 0.0683 - val_loss: 0.1759\n",
      "Epoch 31/60\n",
      "8/8 [==============================] - 4s 494ms/step - loss: 0.0625 - val_loss: 0.1699\n",
      "Epoch 32/60\n",
      "8/8 [==============================] - 4s 488ms/step - loss: 0.0619 - val_loss: 0.1773\n",
      "Epoch 33/60\n",
      "8/8 [==============================] - 4s 485ms/step - loss: 0.0599 - val_loss: 0.1855\n",
      "Epoch 34/60\n",
      "8/8 [==============================] - 4s 489ms/step - loss: 0.0650 - val_loss: 0.1330\n",
      "Epoch 35/60\n",
      "8/8 [==============================] - 4s 492ms/step - loss: 0.0918 - val_loss: 0.2441\n",
      "Epoch 36/60\n",
      "8/8 [==============================] - 4s 487ms/step - loss: 0.1413 - val_loss: 0.0867\n",
      "Epoch 37/60\n",
      "8/8 [==============================] - 4s 492ms/step - loss: 0.0974 - val_loss: 0.1528\n",
      "Epoch 38/60\n",
      "8/8 [==============================] - 4s 494ms/step - loss: 0.0862 - val_loss: 0.1151\n",
      "Epoch 39/60\n",
      "8/8 [==============================] - 4s 540ms/step - loss: 0.0465 - val_loss: 0.1099\n",
      "Epoch 40/60\n",
      "8/8 [==============================] - 4s 520ms/step - loss: 0.0510 - val_loss: 0.1402\n",
      "Epoch 41/60\n",
      "8/8 [==============================] - 4s 506ms/step - loss: 0.0411 - val_loss: 0.1231\n",
      "Epoch 42/60\n",
      "8/8 [==============================] - 4s 530ms/step - loss: 0.0355 - val_loss: 0.1073\n",
      "Epoch 43/60\n",
      "8/8 [==============================] - 4s 508ms/step - loss: 0.0321 - val_loss: 0.1107\n",
      "Epoch 44/60\n",
      "8/8 [==============================] - 4s 508ms/step - loss: 0.0287 - val_loss: 0.1039\n",
      "Epoch 45/60\n",
      "8/8 [==============================] - 4s 511ms/step - loss: 0.0255 - val_loss: 0.0998\n",
      "Epoch 46/60\n",
      "8/8 [==============================] - 4s 514ms/step - loss: 0.0251 - val_loss: 0.0901\n",
      "Epoch 47/60\n",
      "8/8 [==============================] - 4s 491ms/step - loss: 0.0212 - val_loss: 0.0857\n",
      "Epoch 48/60\n",
      "8/8 [==============================] - 4s 528ms/step - loss: 0.0182 - val_loss: 0.0780\n",
      "Epoch 49/60\n",
      "8/8 [==============================] - 4s 485ms/step - loss: 0.0175 - val_loss: 0.0816\n",
      "Epoch 50/60\n",
      "8/8 [==============================] - 4s 474ms/step - loss: 0.0160 - val_loss: 0.0627\n",
      "Epoch 51/60\n",
      "8/8 [==============================] - 4s 474ms/step - loss: 0.0146 - val_loss: 0.0870\n",
      "Epoch 52/60\n",
      "8/8 [==============================] - 4s 482ms/step - loss: 0.0211 - val_loss: 0.0467\n",
      "Epoch 53/60\n",
      "8/8 [==============================] - 4s 484ms/step - loss: 0.0467 - val_loss: 0.1541\n",
      "Epoch 54/60\n",
      "8/8 [==============================] - 4s 478ms/step - loss: 0.1022 - val_loss: 0.0531\n",
      "Epoch 55/60\n",
      "8/8 [==============================] - 4s 525ms/step - loss: 0.0337 - val_loss: 0.0616\n",
      "Epoch 56/60\n",
      "8/8 [==============================] - 4s 511ms/step - loss: 0.0198 - val_loss: 0.0698\n",
      "Epoch 57/60\n",
      "8/8 [==============================] - 4s 556ms/step - loss: 0.0186 - val_loss: 0.0591\n",
      "Epoch 58/60\n",
      "8/8 [==============================] - 4s 520ms/step - loss: 0.0155 - val_loss: 0.0837\n",
      "Epoch 59/60\n",
      "8/8 [==============================] - 4s 468ms/step - loss: 0.0123 - val_loss: 0.0573\n",
      "Epoch 60/60\n",
      "8/8 [==============================] - 4s 440ms/step - loss: 0.0123 - val_loss: 0.0666\n"
     ]
    }
   ],
   "source": [
    "history = model.fit(\n",
    "    X_train, y_train,\n",
    "    epochs = 60,\n",
    "    batch_size = 256,\n",
    "    validation_split = 0.33, \n",
    "    shuffle = False # As it is time-series\n",
    ")"
   ]
  },
  {
   "cell_type": "code",
   "execution_count": 17,
   "metadata": {},
   "outputs": [
    {
     "data": {
      "text/plain": [
       "<matplotlib.legend.Legend at 0x7fb946760b90>"
      ]
     },
     "execution_count": 17,
     "metadata": {},
     "output_type": "execute_result"
    },
    {
     "data": {
      "image/png": "[encoded data removed]",
      "text/plain": [
       "<Figure size 432x288 with 1 Axes>"
      ]
     },
     "metadata": {
      "needs_background": "light"
     },
     "output_type": "display_data"
    }
   ],
   "source": [
    "plt.plot(history.history[\"loss\"], label = \"train\")\n",
    "plt.plot(history.history[\"val_loss\"], label = \"validation\")\n",
    "plt.legend()\n"
   ]
  },
  {
   "cell_type": "code",
   "execution_count": 18,
   "metadata": {},
   "outputs": [],
   "source": [
    "y_pred = model.predict(X_test)"
   ]
  },
  {
   "cell_type": "code",
   "execution_count": 19,
   "metadata": {},
   "outputs": [],
   "source": [
    "y_train_inv = y_transformer.inverse_transform(y_train.reshape(1,-1))\n",
    "y_test_inv = y_transformer.inverse_transform(y_test.reshape(1,-1))\n",
    "y_pred_inv = y_transformer.inverse_transform(y_pred)"
   ]
  },
  {
   "cell_type": "code",
   "execution_count": 20,
   "metadata": {},
   "outputs": [
    {
     "data": {
      "text/plain": [
       "<matplotlib.legend.Legend at 0x7fb946e4db90>"
      ]
     },
     "execution_count": 20,
     "metadata": {},
     "output_type": "execute_result"
    },
    {
     "data": {
      "image/png": "[encoded data removed]",
      "text/plain": [
       "<Figure size 1008x720 with 1 Axes>"
      ]
     },
     "metadata": {
      "needs_background": "light"
     },
     "output_type": "display_data"
    }
   ],
   "source": [
    "plt.figure(figsize = (14,10))\n",
    "plt.plot(y_test_inv.flatten(), marker = '.', label = \"True\")\n",
    "plt.plot(y_pred_inv.flatten(), marker = '.', label = \"Predicted\")\n",
    "\n",
    "plt.legend()"
   ]
  },
  {
   "cell_type": "code",
   "execution_count": 21,
   "metadata": {},
   "outputs": [
    {
     "data": {
      "image/png": "[encoded data removed]",
      "text/plain": [
       "<Figure size 432x288 with 1 Axes>"
      ]
     },
     "metadata": {
      "needs_background": "light"
     },
     "output_type": "display_data"
    }
   ],
   "source": [
    "from scipy.fft import fft\n",
    "# Number of sample points\n",
    "\n",
    "x = x = test.loc[:,\"x_axis\"].tolist()\n",
    "\n",
    "N = len(x)\n",
    "# sample spacing\n",
    "T = x[1] - x[0]\n",
    "\n",
    "# x = np.linspace(0.0, N*T, N)\n",
    "y = y_test_inv.flatten()\n",
    "yf = fft(y)\n",
    "xf = np.linspace(0.0, 1.0/(2.0*T), N//2)\n",
    "plt.plot(xf, 2.0/N * np.abs(yf[0:N//2]), marker = '.', label = \"True\")\n",
    "\n",
    "y_pred_inv.flatten()\n",
    "yf = fft(y)\n",
    "xf = np.linspace(0.0, 1.0/(2.0*T), N//2)\n",
    "plt.plot(xf, 2.0/N * np.abs(yf[0:N//2]), marker = '.', label = \"Predicted\")\n",
    "\n",
    "plt.grid()\n",
    "plt.legend()\n",
    "plt.xlim(0, 100)\n",
    "plt.show()"
   ]
  },
  {
   "cell_type": "code",
   "execution_count": 22,
   "metadata": {},
   "outputs": [
    {
     "name": "stdout",
     "output_type": "stream",
     "text": [
      "Hello World!\n"
     ]
    }
   ],
   "source": [
    "print(\"Hello World!\")"
   ]
  }
 ],
 "metadata": {
  "kernelspec": {
   "display_name": "Python [conda env:dsi]",
   "language": "python",
   "name": "conda-env-dsi-py"
  },
  "language_info": {
   "codemirror_mode": {
    "name": "ipython",
    "version": 3
   },
   "file_extension": ".py",
   "mimetype": "text/x-python",
   "name": "python",
   "nbconvert_exporter": "python",
   "pygments_lexer": "ipython3",
   "version": "3.7.7"
  }
 },
 "nbformat": 4,
 "nbformat_minor": 4
}
